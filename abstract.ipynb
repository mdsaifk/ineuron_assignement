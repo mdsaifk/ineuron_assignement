{
 "cells": [
  {
   "cell_type": "code",
   "execution_count": 1,
   "metadata": {},
   "outputs": [
    {
     "name": "stdout",
     "output_type": "stream",
     "text": [
      "This is a concrete method\n",
      "None\n",
      "16\n",
      "16\n",
      "This is a concrete method\n",
      "None\n",
      "8\n",
      "12\n"
     ]
    }
   ],
   "source": [
    "#\n",
    "# importing the ABC module\n",
    "from abc import ABC, abstractmethod\n",
    "class Shape(ABC):\n",
    "    def common(self):\n",
    "        print(\"This is a concrete method\")\n",
    "    #abstractmethod # decorator\n",
    "    def area(self):\n",
    "        pass\n",
    "    #abstractmethod\n",
    "    def perimeter(self):\n",
    "        pass\n",
    "class Square(Shape):\n",
    "    def __init__(self,side):\n",
    "        self.__side=side        \n",
    "    def area(self):\n",
    "        return self.__side*self.__side    \n",
    "    def perimeter(self):\n",
    "        return 4*self.__side       \n",
    "\n",
    "class Rectangle(Shape):\n",
    "    def __init__(self,length,breath):\n",
    "        self.__length=length\n",
    "class Rectangle(Shape):\n",
    "    def __init__(self,length,breath):\n",
    "        self.__length=length\n",
    "        self.__breath=breath        \n",
    "    def area(self):\n",
    "        return self.__length*self.__breath    \n",
    "    def perimeter(self):\n",
    "        return 2*(self.__length+self.__breath)\n",
    "\n",
    "S1=Square(4)\n",
    "\n",
    "print(S1.common())\n",
    "print(S1.area())\n",
    "print(S1.perimeter())\n",
    "R1=Rectangle(2,4)\n",
    "print(R1.common())\n",
    "print(R1.area())\n",
    "print(R1.perimeter())"
   ]
  },
  {
   "cell_type": "code",
   "execution_count": null,
   "metadata": {},
   "outputs": [],
   "source": []
  }
 ],
 "metadata": {
  "kernelspec": {
   "display_name": "Python 3.7.10 ('env')",
   "language": "python",
   "name": "python3"
  },
  "language_info": {
   "codemirror_mode": {
    "name": "ipython",
    "version": 3
   },
   "file_extension": ".py",
   "mimetype": "text/x-python",
   "name": "python",
   "nbconvert_exporter": "python",
   "pygments_lexer": "ipython3",
   "version": "3.7.10"
  },
  "orig_nbformat": 4,
  "vscode": {
   "interpreter": {
    "hash": "e6829c470a8fc009a8a19a6965e764b6527d1fb9d0c1b5a6167d6c111604ecdc"
   }
  }
 },
 "nbformat": 4,
 "nbformat_minor": 2
}
